{
 "cells": [
  {
   "cell_type": "markdown",
   "metadata": {},
   "source": [
    "# Package Imports"
   ]
  },
  {
   "cell_type": "code",
   "execution_count": 1,
   "metadata": {},
   "outputs": [],
   "source": [
    "import pandas as pd\n",
    "import numpy as np"
   ]
  },
  {
   "cell_type": "markdown",
   "metadata": {},
   "source": [
    "# Feature Engineering"
   ]
  },
  {
   "cell_type": "code",
   "execution_count": 2,
   "metadata": {},
   "outputs": [
    {
     "data": {
      "text/html": [
       "<div>\n",
       "<style scoped>\n",
       "    .dataframe tbody tr th:only-of-type {\n",
       "        vertical-align: middle;\n",
       "    }\n",
       "\n",
       "    .dataframe tbody tr th {\n",
       "        vertical-align: top;\n",
       "    }\n",
       "\n",
       "    .dataframe thead th {\n",
       "        text-align: right;\n",
       "    }\n",
       "</style>\n",
       "<table border=\"1\" class=\"dataframe\">\n",
       "  <thead>\n",
       "    <tr style=\"text-align: right;\">\n",
       "      <th></th>\n",
       "      <th>accountNumber</th>\n",
       "      <th>customerId</th>\n",
       "      <th>creditLimit</th>\n",
       "      <th>availableMoney</th>\n",
       "      <th>transactionDateTime</th>\n",
       "      <th>transactionAmount</th>\n",
       "      <th>merchantName</th>\n",
       "      <th>acqCountry</th>\n",
       "      <th>merchantCountryCode</th>\n",
       "      <th>posEntryMode</th>\n",
       "      <th>...</th>\n",
       "      <th>accountOpenDate</th>\n",
       "      <th>dateOfLastAddressChange</th>\n",
       "      <th>cardCVV</th>\n",
       "      <th>enteredCVV</th>\n",
       "      <th>cardLast4Digits</th>\n",
       "      <th>transactionType</th>\n",
       "      <th>currentBalance</th>\n",
       "      <th>cardPresent</th>\n",
       "      <th>expirationDateKeyInMatch</th>\n",
       "      <th>isFraud</th>\n",
       "    </tr>\n",
       "  </thead>\n",
       "  <tbody>\n",
       "    <tr>\n",
       "      <th>0</th>\n",
       "      <td>100088067</td>\n",
       "      <td>100088067</td>\n",
       "      <td>50000</td>\n",
       "      <td>49953.81</td>\n",
       "      <td>2016-04-08 19:56:36</td>\n",
       "      <td>200.12</td>\n",
       "      <td>1st BBQ</td>\n",
       "      <td>US</td>\n",
       "      <td>US</td>\n",
       "      <td>9.0</td>\n",
       "      <td>...</td>\n",
       "      <td>2014-01-09</td>\n",
       "      <td>2014-01-09</td>\n",
       "      <td>546</td>\n",
       "      <td>546</td>\n",
       "      <td>4615</td>\n",
       "      <td>PURCHASE</td>\n",
       "      <td>46.19</td>\n",
       "      <td>True</td>\n",
       "      <td>False</td>\n",
       "      <td>False</td>\n",
       "    </tr>\n",
       "    <tr>\n",
       "      <th>1</th>\n",
       "      <td>100088067</td>\n",
       "      <td>100088067</td>\n",
       "      <td>50000</td>\n",
       "      <td>49929.31</td>\n",
       "      <td>2016-11-09 07:26:06</td>\n",
       "      <td>95.11</td>\n",
       "      <td>1st Pub</td>\n",
       "      <td>US</td>\n",
       "      <td>US</td>\n",
       "      <td>2.0</td>\n",
       "      <td>...</td>\n",
       "      <td>2014-01-09</td>\n",
       "      <td>2014-01-09</td>\n",
       "      <td>402</td>\n",
       "      <td>402</td>\n",
       "      <td>2077</td>\n",
       "      <td>PURCHASE</td>\n",
       "      <td>70.69</td>\n",
       "      <td>True</td>\n",
       "      <td>False</td>\n",
       "      <td>False</td>\n",
       "    </tr>\n",
       "  </tbody>\n",
       "</table>\n",
       "<p>2 rows × 23 columns</p>\n",
       "</div>"
      ],
      "text/plain": [
       "   accountNumber  customerId  creditLimit  availableMoney  \\\n",
       "0      100088067   100088067        50000        49953.81   \n",
       "1      100088067   100088067        50000        49929.31   \n",
       "\n",
       "   transactionDateTime  transactionAmount merchantName acqCountry  \\\n",
       "0  2016-04-08 19:56:36             200.12      1st BBQ         US   \n",
       "1  2016-11-09 07:26:06              95.11      1st Pub         US   \n",
       "\n",
       "  merchantCountryCode  posEntryMode  ...  accountOpenDate  \\\n",
       "0                  US           9.0  ...       2014-01-09   \n",
       "1                  US           2.0  ...       2014-01-09   \n",
       "\n",
       "  dateOfLastAddressChange cardCVV enteredCVV cardLast4Digits  transactionType  \\\n",
       "0              2014-01-09     546        546            4615         PURCHASE   \n",
       "1              2014-01-09     402        402            2077         PURCHASE   \n",
       "\n",
       "   currentBalance  cardPresent expirationDateKeyInMatch  isFraud  \n",
       "0           46.19         True                    False    False  \n",
       "1           70.69         True                    False    False  \n",
       "\n",
       "[2 rows x 23 columns]"
      ]
     },
     "execution_count": 2,
     "metadata": {},
     "output_type": "execute_result"
    }
   ],
   "source": [
    "# load data from csv\n",
    "transactions_df = pd.read_csv('data/clean_transactions.csv')\n",
    "transactions_df.head(2)"
   ]
  },
  {
   "cell_type": "markdown",
   "metadata": {},
   "source": [
    "### Add feature for purchase paired with a reversal."
   ]
  },
  {
   "cell_type": "code",
   "execution_count": 3,
   "metadata": {},
   "outputs": [],
   "source": [
    "# load reversal transaction pairs from txt\n",
    "reversal_purchase_matches_idx = np.loadtxt('data/matching_purchases.txt', dtype=int)\n",
    "\n",
    "# set pairedWithReversal to 1 if the transaction has is a purchase and matches a reversal\n",
    "transactions_df['pairedWithReversal'] = transactions_df.index.isin(reversal_purchase_matches_idx).astype(int)"
   ]
  },
  {
   "cell_type": "markdown",
   "metadata": {},
   "source": [
    "### Add feature for multiswipe transactions."
   ]
  },
  {
   "cell_type": "code",
   "execution_count": 4,
   "metadata": {},
   "outputs": [],
   "source": [
    "# load multiswipe transactions from txt\n",
    "multiswipe_transaction_idx = np.loadtxt('data/multiswipe_transactions.txt', dtype=int)\n",
    "\n",
    "# set isMultiswipe to 1 if the transaction is a multiswipe\n",
    "transactions_df['isMultiswipe'] = transactions_df.index.isin(multiswipe_transaction_idx).astype(int)"
   ]
  },
  {
   "cell_type": "markdown",
   "metadata": {},
   "source": [
    "### Add feature for whether enteredCVV and cardCVV are the same\n",
    "- then drop enteredCVV and cardCVV"
   ]
  },
  {
   "cell_type": "code",
   "execution_count": 5,
   "metadata": {},
   "outputs": [],
   "source": [
    "transactions_df['enteredAndCardCVVMatch'] = (transactions_df['enteredCVV'] == transactions_df['cardCVV']).astype(int)\n",
    "transactions_df.drop(columns=['enteredCVV', 'cardCVV'], inplace=True)"
   ]
  },
  {
   "cell_type": "markdown",
   "metadata": {},
   "source": [
    "### Combine accountNumber and customerId if they provide the same information"
   ]
  },
  {
   "cell_type": "code",
   "execution_count": 6,
   "metadata": {},
   "outputs": [
    {
     "name": "stdout",
     "output_type": "stream",
     "text": [
      "There 0 records where are accountNumber and customerId fields don't match!\n"
     ]
    }
   ],
   "source": [
    "# check if accountNumber and customerId are ever different -> NO, ALWAYS THE SAME!\n",
    "print(f\"There {(transactions_df['accountNumber'] != transactions_df['customerId']).sum()} records where are accountNumber and customerId fields don't match!\")\n",
    "\n",
    "# drop customerId\n",
    "transactions_df.drop(columns=['customerId'], inplace=True)"
   ]
  },
  {
   "cell_type": "markdown",
   "metadata": {},
   "source": [
    "### Convert time data to int values (ex. mins, hrs, days, etc.)"
   ]
  },
  {
   "cell_type": "code",
   "execution_count": 7,
   "metadata": {},
   "outputs": [],
   "source": [
    "# convert dateOfLastAddressChange to daysSinceLastAddressChange\n",
    "transactions_df['daysSinceLastAddressChange'] = (pd.to_datetime('today') - pd.to_datetime(transactions_df['dateOfLastAddressChange'])).dt.days\n",
    "\n",
    "# convert accountOpenDate -> daysAccountAge\n",
    "transactions_df['daysAccountAge'] = (pd.to_datetime('today') - pd.to_datetime(transactions_df['accountOpenDate'])).dt.days\n",
    "\n",
    "# confirm calculations are correct\n",
    "transactions_df[['dateOfLastAddressChange', 'daysSinceLastAddressChange', 'accountOpenDate', 'daysAccountAge']].head(2)\n",
    "\n",
    "# drop columns\n",
    "# Note: dropped currentExpDate because I would have used it for daysTillExpiry which would be inversly proportional to daysAccountAge (assuming credit cards are valid for set # of years when opened)\n",
    "transactions_df.drop(columns=['dateOfLastAddressChange', 'accountOpenDate', 'currentExpDate'], inplace=True)"
   ]
  },
  {
   "cell_type": "markdown",
   "metadata": {},
   "source": [
    "### Add feature for accountHistoryOfFraud\n",
    "- if a customer has a history of fraud, they are more likely to commit fraud again\n",
    "- if the data being provided to the model"
   ]
  },
  {
   "cell_type": "code",
   "execution_count": 8,
   "metadata": {},
   "outputs": [],
   "source": [
    "# add accountHistoryOfFraud\n",
    "transactions_df['accountHistoryOfFraud'] = transactions_df.groupby('accountNumber')['isFraud'].cumsum()\n",
    "transactions_df['accountHistoryOfFraud'] = transactions_df['accountHistoryOfFraud'].apply(lambda x: 1 if x > 0 else 0)"
   ]
  },
  {
   "cell_type": "markdown",
   "metadata": {},
   "source": [
    "### Add feature for time difference since the last transaction by the same customer."
   ]
  },
  {
   "cell_type": "code",
   "execution_count": 9,
   "metadata": {},
   "outputs": [
    {
     "name": "stdout",
     "output_type": "stream",
     "text": [
      "There are 0 records with negative minsSinceLastTransaction!\n"
     ]
    }
   ],
   "source": [
    "# convert 'transactionsDateTime' to datetime object\n",
    "transactions_df['transactionDateTime'] = pd.to_datetime(transactions_df['transactionDateTime'])\n",
    "\n",
    "# sort by customerId and transactionDateTime\n",
    "transactions_df.sort_values(['accountNumber', 'transactionDateTime'], inplace=True)\n",
    "\n",
    "transactions_df['minsSinceLastTransaction'] = transactions_df.groupby('accountNumber')['transactionDateTime'].diff(1).dt.total_seconds() / 60\n",
    "\n",
    "# confirm minsSinceLastTransation is only positive\n",
    "print(f\"There are {len(transactions_df[transactions_df['minsSinceLastTransaction'] < 0])} records with negative minsSinceLastTransaction!\")\n",
    "\n",
    "# drop datetime after using it to create features\n",
    "transactions_df.drop(columns=['transactionDateTime'], inplace=True)"
   ]
  },
  {
   "cell_type": "markdown",
   "metadata": {},
   "source": [
    "### Drop Merchant Name\n",
    "- too many unique values\n",
    "- if I were to use this, I would standardize all merchant names (ex. AMC #XXXX -> AMC, Uber #XXXX -> Uber, etc.)"
   ]
  },
  {
   "cell_type": "code",
   "execution_count": 10,
   "metadata": {},
   "outputs": [],
   "source": [
    "# drop merchant name\n",
    "transactions_df.drop(columns=['merchantName'], inplace=True)"
   ]
  },
  {
   "cell_type": "markdown",
   "metadata": {},
   "source": [
    "### One-hot encode all categorical features.\n",
    "- one hot encode acqCountry, merchantCountryCode, posEntryMode, posConditionCode, merchantCategoryCode, transactionType"
   ]
  },
  {
   "cell_type": "code",
   "execution_count": 11,
   "metadata": {},
   "outputs": [],
   "source": [
    "# one hot encode all categorical features\n",
    "categorical_features = ['acqCountry', 'merchantCountryCode', 'posEntryMode', 'posConditionCode', 'merchantCategoryCode', 'transactionType']\n",
    "\n",
    "# one hot encode categorical features\n",
    "one_hot_encoded_df = pd.get_dummies(transactions_df, columns=categorical_features, dtype=int)"
   ]
  },
  {
   "cell_type": "markdown",
   "metadata": {},
   "source": [
    "### Convert boolean features to integer values 0 and 1."
   ]
  },
  {
   "cell_type": "code",
   "execution_count": 12,
   "metadata": {},
   "outputs": [],
   "source": [
    "# convert boolean values to 0/1\n",
    "boolean_features = ['cardPresent', 'expirationDateKeyInMatch', 'isFraud']\n",
    "\n",
    "one_hot_encoded_df[boolean_features] = one_hot_encoded_df[boolean_features].astype(int)"
   ]
  },
  {
   "cell_type": "markdown",
   "metadata": {},
   "source": [
    "# Save Data For Modeling"
   ]
  },
  {
   "cell_type": "code",
   "execution_count": 13,
   "metadata": {},
   "outputs": [],
   "source": [
    "# save data to csv\n",
    "one_hot_encoded_df.to_csv('data/clean_engineered_with_outliers.csv', index=False)"
   ]
  }
 ],
 "metadata": {
  "kernelspec": {
   "display_name": "c1-ds-challenge",
   "language": "python",
   "name": "python3"
  },
  "language_info": {
   "codemirror_mode": {
    "name": "ipython",
    "version": 3
   },
   "file_extension": ".py",
   "mimetype": "text/x-python",
   "name": "python",
   "nbconvert_exporter": "python",
   "pygments_lexer": "ipython3",
   "version": "3.9.18"
  },
  "orig_nbformat": 4
 },
 "nbformat": 4,
 "nbformat_minor": 2
}
